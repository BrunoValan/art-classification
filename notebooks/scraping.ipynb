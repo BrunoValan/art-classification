{
 "cells": [
  {
   "cell_type": "code",
   "execution_count": null,
   "metadata": {},
   "outputs": [],
   "source": [
    "import os\n",
    "import requests \n",
    "from bs4 import BeautifulSoup"
   ]
  },
  {
   "cell_type": "code",
   "execution_count": null,
   "metadata": {},
   "outputs": [],
   "source": [
    "URL = \"https://www.google.com/search?q={}&rlz=1C1CHBF_enUS747US747&source=lnms&tbm=isch&sa=X&ved=0ahUKEwiZ0M7Z5M_iAhXOyDgGHQslAQQ_AUIEigB&biw=1366&bih=657\"\n",
    "\n",
    "def fetch_image_urls(query, max_links_to_fetch):\n",
    "    search_url = URL.format(query)\n",
    "    response = requests.get(search_url)\n",
    "    soup = BeautifulSoup(response.text, \"html.parser\")\n",
    "    image_tags = soup.findAll(\"img\")\n",
    "    urls = []\n",
    "    for image_tag in image_tags:\n",
    "        image_url = image_tag.get(\"src\")\n",
    "        if image_url:\n",
    "            urls.append(image_url)\n",
    "        if len(urls) == max_links_to_fetch:\n",
    "            break\n",
    "    return urls\n",
    "\n",
    "def save_images(image_urls, destination_folder, query):\n",
    "    directory = os.path.join(destination_folder, query.replace(\" \", \"_\"))\n",
    "    if not os.path.exists(directory):\n",
    "        os.makedirs(directory)\n",
    "    for i, url in enumerate(image_urls):\n",
    "        if not url.startswith(\"http\"):\n",
    "            # if the URL is relative, add the scheme (e.g., \"https\") and the host (e.g., \"www.google.com\")\n",
    "            url = \"https://www.google.com\" + url\n",
    "        response = requests.get(url)\n",
    "        with open(os.path.join(directory, str(i)), \"wb\") as f:\n",
    "            f.write(response.content)"
   ]
  },
  {
   "cell_type": "code",
   "execution_count": null,
   "metadata": {},
   "outputs": [],
   "source": [
    "image_urls = fetch_image_urls(\"dalle2+images\", max_links_to_fetch=100)\n",
    "save_images(image_urls, \"images\")"
   ]
  }
 ],
 "metadata": {
  "language_info": {
   "name": "python"
  },
  "orig_nbformat": 4
 },
 "nbformat": 4,
 "nbformat_minor": 2
}
